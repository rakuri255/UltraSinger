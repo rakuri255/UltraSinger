{
  "cells": [
    {
      "cell_type": "code",
      "execution_count": null,
      "metadata": {
        "id": "Hki_kX_kSbZX"
      },
      "outputs": [],
      "source": [
        "%cd /content\n",
        "!git clone https://github.com/rakuri255/UltraSinger.git\n",
        "%cd /content/UltraSinger\n",
        "!pip install --no-cache-dir -r requirements.txt\n",
        "!pip install --no-cache-dir torch==2.3.0 torchvision==0.18.0 torchaudio==2.3.0 --index-url https://download.pytorch.org/whl/cu121\n",
        "%cd /content/UltraSinger/src"
      ]
    },
    {
      "cell_type": "code",
      "execution_count": null,
      "metadata": {
        "id": "O0j4vUW0YAG2"
      },
      "outputs": [],
      "source": [
        "!python UltraSinger.py -i https://www.youtube.com/watch?v=YwNs1Z0qRY0 -o /content/output"
      ]
    }
  ],
  "metadata": {
    "accelerator": "GPU",
    "colab": {
      "gpuType": "T4",
      "provenance": []
    },
    "kernelspec": {
      "display_name": "Python 3",
      "name": "python3"
    },
    "language_info": {
      "name": "python"
    }
  },
  "nbformat": 4,
  "nbformat_minor": 0
}
